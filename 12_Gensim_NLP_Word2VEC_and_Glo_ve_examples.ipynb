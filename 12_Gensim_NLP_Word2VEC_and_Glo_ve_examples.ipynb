{
  "nbformat": 4,
  "nbformat_minor": 0,
  "metadata": {
    "colab": {
      "name": "12 Gensim NLP Word2VEC and Glo ve examples.ipynb",
      "provenance": [],
      "collapsed_sections": [],
      "toc_visible": true,
      "authorship_tag": "ABX9TyP5hIMdkRO0NDW6BhlFhKD5",
      "include_colab_link": true
    },
    "kernelspec": {
      "name": "python3",
      "display_name": "Python 3"
    },
    "accelerator": "GPU"
  },
  "cells": [
    {
      "cell_type": "markdown",
      "metadata": {
        "id": "view-in-github",
        "colab_type": "text"
      },
      "source": [
        "<a href=\"https://colab.research.google.com/github/marcelounb/NLP-Jason-Brownlee/blob/main/12_Gensim_NLP_Word2VEC_and_Glo_ve_examples.ipynb\" target=\"_parent\"><img src=\"https://colab.research.google.com/assets/colab-badge.svg\" alt=\"Open In Colab\"/></a>"
      ]
    },
    {
      "cell_type": "code",
      "metadata": {
        "colab": {
          "base_uri": "https://localhost:8080/"
        },
        "id": "TCaVX498fpdh",
        "outputId": "04af4745-822a-4737-a6cf-d0a0dbf0b035"
      },
      "source": [
        "!pip install -U gensim"
      ],
      "execution_count": 1,
      "outputs": [
        {
          "output_type": "stream",
          "text": [
            "Collecting gensim\n",
            "\u001b[?25l  Downloading https://files.pythonhosted.org/packages/2b/e0/fa6326251692056dc880a64eb22117e03269906ba55a6864864d24ec8b4e/gensim-3.8.3-cp36-cp36m-manylinux1_x86_64.whl (24.2MB)\n",
            "\u001b[K     |████████████████████████████████| 24.2MB 129kB/s \n",
            "\u001b[?25hRequirement already satisfied, skipping upgrade: smart-open>=1.8.1 in /usr/local/lib/python3.6/dist-packages (from gensim) (4.0.1)\n",
            "Requirement already satisfied, skipping upgrade: six>=1.5.0 in /usr/local/lib/python3.6/dist-packages (from gensim) (1.15.0)\n",
            "Requirement already satisfied, skipping upgrade: numpy>=1.11.3 in /usr/local/lib/python3.6/dist-packages (from gensim) (1.18.5)\n",
            "Requirement already satisfied, skipping upgrade: scipy>=0.18.1 in /usr/local/lib/python3.6/dist-packages (from gensim) (1.4.1)\n",
            "Installing collected packages: gensim\n",
            "  Found existing installation: gensim 3.6.0\n",
            "    Uninstalling gensim-3.6.0:\n",
            "      Successfully uninstalled gensim-3.6.0\n",
            "Successfully installed gensim-3.8.3\n"
          ],
          "name": "stdout"
        }
      ]
    },
    {
      "cell_type": "markdown",
      "metadata": {
        "id": "Wwta06qjgFwC"
      },
      "source": [
        "# 12.4 Develop Word2Vec Embedding"
      ]
    },
    {
      "cell_type": "code",
      "metadata": {
        "id": "15sGRQjOfwPh"
      },
      "source": [
        "from gensim.models import Word2Vec\r\n",
        "from sklearn.decomposition import PCA\r\n",
        "from matplotlib import pyplot"
      ],
      "execution_count": 9,
      "outputs": []
    },
    {
      "cell_type": "code",
      "metadata": {
        "id": "ld3NeCx3iCHX"
      },
      "source": [
        "# define training data\r\n",
        "sentences = [['this', 'is', 'the', 'first', 'sentence', 'for', 'word2vec'],\r\n",
        "['this', 'is', 'the', 'second', 'sentence'],\r\n",
        "['yet', 'another', 'sentence'],\r\n",
        "['one', 'more', 'sentence'],\r\n",
        "['and', 'the', 'final', 'sentence']]"
      ],
      "execution_count": 3,
      "outputs": []
    },
    {
      "cell_type": "code",
      "metadata": {
        "colab": {
          "base_uri": "https://localhost:8080/"
        },
        "id": "4yyK1Da1iEwX",
        "outputId": "262b3ad9-54fb-4140-e384-6554829fe217"
      },
      "source": [
        "# train model\r\n",
        "model = Word2Vec(sentences, min_count=1)\r\n",
        "# summarize the loaded model\r\n",
        "print(model)"
      ],
      "execution_count": 4,
      "outputs": [
        {
          "output_type": "stream",
          "text": [
            "Word2Vec(vocab=14, size=100, alpha=0.025)\n"
          ],
          "name": "stdout"
        }
      ]
    },
    {
      "cell_type": "code",
      "metadata": {
        "colab": {
          "base_uri": "https://localhost:8080/"
        },
        "id": "GKLnRtdYiLFT",
        "outputId": "62009bb8-3a45-4baa-96d1-25fe6e163796"
      },
      "source": [
        "# summarize vocabulary\r\n",
        "words = list(model.wv.vocab)\r\n",
        "print(words)"
      ],
      "execution_count": 5,
      "outputs": [
        {
          "output_type": "stream",
          "text": [
            "['this', 'is', 'the', 'first', 'sentence', 'for', 'word2vec', 'second', 'yet', 'another', 'one', 'more', 'and', 'final']\n"
          ],
          "name": "stdout"
        }
      ]
    },
    {
      "cell_type": "code",
      "metadata": {
        "colab": {
          "base_uri": "https://localhost:8080/"
        },
        "id": "Cm0z11pdiO9w",
        "outputId": "fbaa23ba-d21a-41fc-efea-fc3f2bffbf1d"
      },
      "source": [
        "# access vector for one word\r\n",
        "print(model['sentence'])"
      ],
      "execution_count": 6,
      "outputs": [
        {
          "output_type": "stream",
          "text": [
            "[ 0.00109012  0.00298871  0.00025375  0.00100167  0.00403195 -0.0018775\n",
            " -0.00207089 -0.00131884  0.00190272 -0.00088583 -0.00490731 -0.00142892\n",
            " -0.00419834  0.00062181 -0.0024971  -0.00343892 -0.00118494 -0.00102316\n",
            "  0.00170165 -0.00429158 -0.00298925 -0.00158085 -0.00129824  0.00030156\n",
            " -0.00069301 -0.0016065   0.00348394  0.00276677 -0.00229425 -0.00486683\n",
            "  0.00062058  0.00083455  0.00336013  0.00335394  0.00334187 -0.00359066\n",
            "  0.00151546 -0.00104991  0.00492543 -0.00157892  0.00115428  0.00250701\n",
            " -0.0010305   0.00264295  0.00135617  0.00045249 -0.00496048 -0.00058864\n",
            "  0.00403873  0.0039874  -0.00399197 -0.0018567   0.00156981  0.00243898\n",
            "  0.00029337 -0.00039162 -0.00174281  0.00239073  0.00267645 -0.00042441\n",
            " -0.00434189  0.00144882 -0.00235409  0.00399378  0.00163428  0.00303849\n",
            "  0.00375428  0.00022697  0.00490657  0.00032752  0.00106742 -0.00078733\n",
            " -0.00386949 -0.00395568  0.00375174 -0.00339218  0.00334644  0.00366498\n",
            "  0.00470393  0.00143777 -0.00186754 -0.00470399 -0.00031837 -0.00135564\n",
            "  0.00397706  0.00058897  0.00489183  0.00357449 -0.00488621 -0.00064953\n",
            " -0.00302241 -0.00465307  0.00493234  0.00279796  0.00185534  0.00111106\n",
            " -0.00104189 -0.000124    0.00306349 -0.00143503]\n"
          ],
          "name": "stdout"
        },
        {
          "output_type": "stream",
          "text": [
            "/usr/local/lib/python3.6/dist-packages/ipykernel_launcher.py:2: DeprecationWarning: Call to deprecated `__getitem__` (Method will be removed in 4.0.0, use self.wv.__getitem__() instead).\n",
            "  \n"
          ],
          "name": "stderr"
        }
      ]
    },
    {
      "cell_type": "code",
      "metadata": {
        "id": "z8710fqkiTZW"
      },
      "source": [
        "# save model\r\n",
        "model.save('model.bin')"
      ],
      "execution_count": 7,
      "outputs": []
    },
    {
      "cell_type": "code",
      "metadata": {
        "colab": {
          "base_uri": "https://localhost:8080/"
        },
        "id": "aA2uEQvKiW4k",
        "outputId": "afb87a94-0cd0-4b23-a4e4-a96ad392ce82"
      },
      "source": [
        "# load model\r\n",
        "new_model = Word2Vec.load('model.bin')\r\n",
        "print(new_model)"
      ],
      "execution_count": 8,
      "outputs": [
        {
          "output_type": "stream",
          "text": [
            "Word2Vec(vocab=14, size=100, alpha=0.025)\n"
          ],
          "name": "stdout"
        }
      ]
    },
    {
      "cell_type": "code",
      "metadata": {
        "colab": {
          "base_uri": "https://localhost:8080/"
        },
        "id": "3nB6vRQ-iZxl",
        "outputId": "e96a293c-742f-44b0-adaa-b48e84655824"
      },
      "source": [
        "# fit a 2d PCA model to the vectors\r\n",
        "X = model[model.wv.vocab]\r\n",
        "pca = PCA(n_components=2)\r\n",
        "result = pca.fit_transform(X)"
      ],
      "execution_count": 10,
      "outputs": [
        {
          "output_type": "stream",
          "text": [
            "/usr/local/lib/python3.6/dist-packages/ipykernel_launcher.py:2: DeprecationWarning: Call to deprecated `__getitem__` (Method will be removed in 4.0.0, use self.wv.__getitem__() instead).\n",
            "  \n"
          ],
          "name": "stderr"
        }
      ]
    },
    {
      "cell_type": "code",
      "metadata": {
        "colab": {
          "base_uri": "https://localhost:8080/",
          "height": 268
        },
        "id": "32jBJ2gUkt7-",
        "outputId": "d4b41b47-f38a-4e09-b6eb-01ddd0e02a4d"
      },
      "source": [
        "# create a scatter plot of the projection\r\n",
        "pyplot.scatter(result[:, 0], result[:, 1])\r\n",
        "words = list(model.wv.vocab)\r\n",
        "for i, word in enumerate(words):\r\n",
        "  pyplot.annotate(word, xy=(result[i, 0], result[i, 1]))\r\n",
        "pyplot.show()"
      ],
      "execution_count": 11,
      "outputs": [
        {
          "output_type": "display_data",
          "data": {
            "image/png": "[encoded data removed]",
            "text/plain": [
              "<Figure size 432x288 with 1 Axes>"
            ]
          },
          "metadata": {
            "tags": [],
            "needs_background": "light"
          }
        }
      ]
    },
    {
      "cell_type": "markdown",
      "metadata": {
        "id": "PTGiVfTxqFat"
      },
      "source": [
        "# 12.6 Load Google's Word2Vec Embedding"
      ]
    },
    {
      "cell_type": "code",
      "metadata": {
        "id": "3_wITSXJqGZV"
      },
      "source": [
        "from gensim.models import KeyedVectors"
      ],
      "execution_count": 12,
      "outputs": []
    },
    {
      "cell_type": "code",
      "metadata": {
        "colab": {
          "base_uri": "https://localhost:8080/"
        },
        "id": "E3BnZ7F1qnrc",
        "outputId": "e5131111-47cc-4119-8da8-6399618d55a0"
      },
      "source": [
        "!pip install wget\r\n",
        "!wget -c \"https://s3.amazonaws.com/dl4j-distribution/GoogleNews-vectors-negative300.bin.gz\""
      ],
      "execution_count": 17,
      "outputs": [
        {
          "output_type": "stream",
          "text": [
            "Collecting wget\n",
            "  Downloading https://files.pythonhosted.org/packages/47/6a/62e288da7bcda82b935ff0c6cfe542970f04e29c756b0e147251b2fb251f/wget-3.2.zip\n",
            "Building wheels for collected packages: wget\n",
            "  Building wheel for wget (setup.py) ... \u001b[?25l\u001b[?25hdone\n",
            "  Created wheel for wget: filename=wget-3.2-cp36-none-any.whl size=9681 sha256=bd53e7a62b6336742c45ccdcf9f9270bdf3dcc3ddedcad8956c60c8de22f9a73\n",
            "  Stored in directory: /root/.cache/pip/wheels/40/15/30/7d8f7cea2902b4db79e3fea550d7d7b85ecb27ef992b618f3f\n",
            "Successfully built wget\n",
            "Installing collected packages: wget\n",
            "Successfully installed wget-3.2\n",
            "--2020-12-16 13:09:13--  https://s3.amazonaws.com/dl4j-distribution/GoogleNews-vectors-negative300.bin.gz\n",
            "Resolving s3.amazonaws.com (s3.amazonaws.com)... 52.217.38.62\n",
            "Connecting to s3.amazonaws.com (s3.amazonaws.com)|52.217.38.62|:443... connected.\n",
            "HTTP request sent, awaiting response... 200 OK\n",
            "Length: 1647046227 (1.5G) [application/x-gzip]\n",
            "Saving to: ‘GoogleNews-vectors-negative300.bin.gz’\n",
            "\n",
            "GoogleNews-vectors- 100%[===================>]   1.53G  17.0MB/s    in 96s     \n",
            "\n",
            "2020-12-16 13:10:50 (16.3 MB/s) - ‘GoogleNews-vectors-negative300.bin.gz’ saved [1647046227/1647046227]\n",
            "\n"
          ],
          "name": "stdout"
        }
      ]
    },
    {
      "cell_type": "code",
      "metadata": {
        "id": "dVCTQ0PXqOJy"
      },
      "source": [
        "# load the google word2vec model\r\n",
        "# filename = 'GoogleNews-vectors-negative300.bin'\r\n",
        "model = KeyedVectors.load_word2vec_format('/content/GoogleNews-vectors-negative300.bin.gz', binary=True)"
      ],
      "execution_count": 19,
      "outputs": []
    },
    {
      "cell_type": "code",
      "metadata": {
        "colab": {
          "base_uri": "https://localhost:8080/"
        },
        "id": "wly9I1qhqRNe",
        "outputId": "62d24254-20e4-4ec8-9bd1-a2c73a78e68a"
      },
      "source": [
        "# calculate: (king - man) + woman = ?\r\n",
        "result = model.most_similar(positive=['woman', 'king'], negative=['man'], topn=1)\r\n",
        "print(result)"
      ],
      "execution_count": 22,
      "outputs": [
        {
          "output_type": "stream",
          "text": [
            "[('queen', 0.7118192911148071)]\n"
          ],
          "name": "stdout"
        }
      ]
    },
    {
      "cell_type": "markdown",
      "metadata": {
        "id": "mLDjhCx6s0rO"
      },
      "source": [
        "# Load Stanford's GloVe Embedding"
      ]
    },
    {
      "cell_type": "code",
      "metadata": {
        "id": "kpkD3ipQyGvU"
      },
      "source": [
        "from gensim.scripts.glove2word2vec import glove2word2vec"
      ],
      "execution_count": 28,
      "outputs": []
    },
    {
      "cell_type": "code",
      "metadata": {
        "colab": {
          "base_uri": "https://localhost:8080/"
        },
        "id": "L1KLoQf5yII_",
        "outputId": "1e35dfa0-509b-46d3-f040-3c693d8fa691"
      },
      "source": [
        "!wget -c \"http://nlp.stanford.edu/data/glove.6B.zip\""
      ],
      "execution_count": 29,
      "outputs": [
        {
          "output_type": "stream",
          "text": [
            "--2020-12-16 13:41:30--  http://nlp.stanford.edu/data/glove.6B.zip\n",
            "Resolving nlp.stanford.edu (nlp.stanford.edu)... 171.64.67.140\n",
            "Connecting to nlp.stanford.edu (nlp.stanford.edu)|171.64.67.140|:80... connected.\n",
            "HTTP request sent, awaiting response... 302 Found\n",
            "Location: https://nlp.stanford.edu/data/glove.6B.zip [following]\n",
            "--2020-12-16 13:41:31--  https://nlp.stanford.edu/data/glove.6B.zip\n",
            "Connecting to nlp.stanford.edu (nlp.stanford.edu)|171.64.67.140|:443... connected.\n",
            "HTTP request sent, awaiting response... 301 Moved Permanently\n",
            "Location: http://downloads.cs.stanford.edu/nlp/data/glove.6B.zip [following]\n",
            "--2020-12-16 13:41:31--  http://downloads.cs.stanford.edu/nlp/data/glove.6B.zip\n",
            "Resolving downloads.cs.stanford.edu (downloads.cs.stanford.edu)... 171.64.64.22\n",
            "Connecting to downloads.cs.stanford.edu (downloads.cs.stanford.edu)|171.64.64.22|:80... connected.\n",
            "HTTP request sent, awaiting response... 200 OK\n",
            "Length: 862182613 (822M) [application/zip]\n",
            "Saving to: ‘glove.6B.zip’\n",
            "\n",
            "glove.6B.zip        100%[===================>] 822.24M  1.88MB/s    in 6m 30s  \n",
            "\n",
            "2020-12-16 13:48:01 (2.11 MB/s) - ‘glove.6B.zip’ saved [862182613/862182613]\n",
            "\n"
          ],
          "name": "stdout"
        }
      ]
    },
    {
      "cell_type": "code",
      "metadata": {
        "colab": {
          "base_uri": "https://localhost:8080/"
        },
        "id": "6uuOGhDvyvbr",
        "outputId": "1588237e-0dee-43b3-fd66-b7b68719f775"
      },
      "source": [
        "!unzip '/content/glove.6B.zip'"
      ],
      "execution_count": 30,
      "outputs": [
        {
          "output_type": "stream",
          "text": [
            "Archive:  /content/glove.6B.zip\n",
            "  inflating: glove.6B.50d.txt        \n",
            "  inflating: glove.6B.100d.txt       \n",
            "  inflating: glove.6B.200d.txt       \n",
            "  inflating: glove.6B.300d.txt       \n"
          ],
          "name": "stdout"
        }
      ]
    },
    {
      "cell_type": "code",
      "metadata": {
        "colab": {
          "base_uri": "https://localhost:8080/"
        },
        "id": "5mZZdcOhs3D-",
        "outputId": "778166b7-39b5-4861-d0d7-b0ba3648399a"
      },
      "source": [
        "glove_input_file = 'glove.6B.100d.txt'\r\n",
        "word2vec_output_file = 'glove.6B.100d.txt.word2vec'\r\n",
        "glove2word2vec(glove_input_file, word2vec_output_file)"
      ],
      "execution_count": 31,
      "outputs": [
        {
          "output_type": "execute_result",
          "data": {
            "text/plain": [
              "(400000, 100)"
            ]
          },
          "metadata": {
            "tags": []
          },
          "execution_count": 31
        }
      ]
    },
    {
      "cell_type": "code",
      "metadata": {
        "colab": {
          "base_uri": "https://localhost:8080/"
        },
        "id": "oTbXQgiox2Fn",
        "outputId": "5fc1b559-d985-4bb9-c8be-6324fa13196a"
      },
      "source": [
        "filename = 'glove.6B.100d.txt.word2vec'\r\n",
        "model2 = KeyedVectors.load_word2vec_format(filename, binary=False)\r\n",
        "# calculate: (king - man) + woman = ?\r\n",
        "result = model2.most_similar(positive=['woman', 'king'], negative=['man'], topn=1)\r\n",
        "print(result)"
      ],
      "execution_count": 34,
      "outputs": [
        {
          "output_type": "stream",
          "text": [
            "[('queen', 0.7698541283607483)]\n"
          ],
          "name": "stdout"
        }
      ]
    }
  ]
}